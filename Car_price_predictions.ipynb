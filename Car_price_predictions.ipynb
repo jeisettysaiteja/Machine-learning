{
  "nbformat": 4,
  "nbformat_minor": 0,
  "metadata": {
    "colab": {
      "name": "Car price predictions.ipynb",
      "provenance": [],
      "authorship_tag": "ABX9TyP64xvbFFgAOioutq8X4Zl4",
      "include_colab_link": true
    },
    "kernelspec": {
      "name": "python3",
      "display_name": "Python 3"
    }
  },
  "cells": [
    {
      "cell_type": "markdown",
      "metadata": {
        "id": "view-in-github",
        "colab_type": "text"
      },
      "source": [
        "<a href=\"https://colab.research.google.com/github/jeisettysaiteja/Machine-learning/blob/master/Car_price_predictions.ipynb\" target=\"_parent\"><img src=\"https://colab.research.google.com/assets/colab-badge.svg\" alt=\"Open In Colab\"/></a>"
      ]
    },
    {
      "cell_type": "code",
      "metadata": {
        "id": "E65Hp26f4zUU",
        "colab_type": "code",
        "colab": {}
      },
      "source": [
        "import pandas as pd\n",
        "import numpy as np\n",
        "import matplotlib.pyplot as plt"
      ],
      "execution_count": null,
      "outputs": []
    },
    {
      "cell_type": "code",
      "metadata": {
        "id": "HgnMW4-e3Z-H",
        "colab_type": "code",
        "colab": {}
      },
      "source": [
        "car_sales = pd.read_csv(\"car-sales-extended-missing-data.csv\")"
      ],
      "execution_count": null,
      "outputs": []
    },
    {
      "cell_type": "code",
      "metadata": {
        "id": "4jtZQFf03jDC",
        "colab_type": "code",
        "colab": {
          "base_uri": "https://localhost:8080/",
          "height": 119
        },
        "outputId": "e53d6215-027e-4421-804f-62038f46b2ea"
      },
      "source": [
        "car_sales.isna().sum()"
      ],
      "execution_count": null,
      "outputs": [
        {
          "output_type": "execute_result",
          "data": {
            "text/plain": [
              "Make             49\n",
              "Colour           50\n",
              "Odometer (KM)    50\n",
              "Doors            50\n",
              "Price            50\n",
              "dtype: int64"
            ]
          },
          "metadata": {
            "tags": []
          },
          "execution_count": 5
        }
      ]
    },
    {
      "cell_type": "code",
      "metadata": {
        "id": "_y4moV8536SY",
        "colab_type": "code",
        "colab": {}
      },
      "source": [
        "car_sales.dropna(subset=[\"Price\"], inplace=True)\n",
        "\n",
        "x = car_sales.drop(\"Price\", axis=1)\n",
        "y = car_sales[\"Price\"]\n",
        "\n",
        "from sklearn.impute import SimpleImputer\n",
        "from sklearn.compose import ColumnTransformer\n",
        "cat_impute = SimpleImputer(strategy=\"constant\", fill_value=\"missing\")\n",
        "door_impute = SimpleImputer(strategy=\"constant\", fill_value=4)\n",
        "num_impute = SimpleImputer(strategy=\"mean\")\n",
        "\n",
        "cat_features = [\"Make\",\"Colour\"]\n",
        "door_features =[\"Doors\"]\n",
        "num_features = [\"Odometer (KM)\"]\n",
        "\n",
        "imputer = ColumnTransformer([\n",
        "    (\"cat_impute\",cat_impute,cat_features),\n",
        "    (\"door_impute\",door_impute,door_features),\n",
        "    (\"num_impute\",num_impute,num_features),\n",
        "])\n",
        "\n",
        "x = imputer.fit_transform(x)\n",
        "x\n",
        "\n",
        "car_sales_filled = pd.DataFrame(x, columns=[\"Make\", \"Colour\", \"Doors\", \"Odometer (KM)\"])"
      ],
      "execution_count": null,
      "outputs": []
    },
    {
      "cell_type": "code",
      "metadata": {
        "id": "RQF4It_g4R7M",
        "colab_type": "code",
        "colab": {}
      },
      "source": [
        "from sklearn.preprocessing import OneHotEncoder\n",
        "from sklearn.compose import ColumnTransformer\n",
        "\n",
        "categorical_features = [\"Make\", \"Colour\", \"Doors\"]\n",
        "one_hot = OneHotEncoder()\n",
        "transformer = ColumnTransformer([(\"one_hot\", one_hot, categorical_features)],\n",
        "                               remainder=\"passthrough\")\n",
        "\n",
        "x = transformer.fit_transform(car_sales_filled)"
      ],
      "execution_count": null,
      "outputs": []
    },
    {
      "cell_type": "code",
      "metadata": {
        "id": "xMMo_6J44ahm",
        "colab_type": "code",
        "colab": {
          "base_uri": "https://localhost:8080/",
          "height": 34
        },
        "outputId": "df2a86a3-3cc6-4e8a-9ca0-bd41ea2b25b4"
      },
      "source": [
        "np.random.seed(4)\n",
        "from sklearn.ensemble import RandomForestRegressor\n",
        "from sklearn.model_selection import train_test_split\n",
        "x_train,x_test,y_train,y_test = train_test_split(x, y,\n",
        "                                                test_size=0.2)\n",
        "model = RandomForestRegressor()\n",
        "model.fit(x_train,y_train)\n",
        "model.score(x_test, y_test)"
      ],
      "execution_count": null,
      "outputs": [
        {
          "output_type": "execute_result",
          "data": {
            "text/plain": [
              "0.3163767193609497"
            ]
          },
          "metadata": {
            "tags": []
          },
          "execution_count": 17
        }
      ]
    },
    {
      "cell_type": "code",
      "metadata": {
        "id": "rWeGl-W45PZL",
        "colab_type": "code",
        "colab": {}
      },
      "source": [
        "y_pred = model.predict(x_test)"
      ],
      "execution_count": null,
      "outputs": []
    },
    {
      "cell_type": "code",
      "metadata": {
        "id": "sojD9S2V5Xlo",
        "colab_type": "code",
        "colab": {
          "base_uri": "https://localhost:8080/",
          "height": 68
        },
        "outputId": "f9b9fd10-7cb7-4bb4-8964-1ff9aa77b341"
      },
      "source": [
        "from sklearn.metrics import r2_score, mean_squared_error, mean_absolute_error\n",
        "\n",
        "print(f'r2_score: {r2_score(y_test, y_pred)}')\n",
        "print(f'mean_absolute_error: {mean_absolute_error(y_test, y_pred)}')\n",
        "print(f'mean_square_error: {mean_squared_error(y_test, y_pred)}')"
      ],
      "execution_count": null,
      "outputs": [
        {
          "output_type": "stream",
          "text": [
            "r2_score: -0.347702910215578\n",
            "mean_absolute_error: 8353.950449276601\n",
            "mean_square_error: 113206705.14250427\n"
          ],
          "name": "stdout"
        }
      ]
    },
    {
      "cell_type": "code",
      "metadata": {
        "id": "IeCQcmxb5ZAt",
        "colab_type": "code",
        "colab": {}
      },
      "source": [
        ""
      ],
      "execution_count": null,
      "outputs": []
    }
  ]
}